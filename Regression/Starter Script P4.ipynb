{
 "cells": [
  {
   "cell_type": "markdown",
   "metadata": {},
   "source": [
    "# Read this first \n",
    "\n",
    "* each comment and text line added here is important and relevant , dont skim through just the code\n",
    "* if the comment asks you to revisit some concepts/modules , do so\n",
    "* this is not complete code on its own , you need to fill in your own code to eventually start building a model"
   ]
  },
  {
   "cell_type": "code",
   "execution_count": 1,
   "metadata": {},
   "outputs": [],
   "source": [
    "import warnings\n",
    "warnings.filterwarnings('ignore')\n",
    "import pandas as pd \n",
    "import numpy as np"
   ]
  },
  {
   "cell_type": "code",
   "execution_count": 2,
   "metadata": {},
   "outputs": [],
   "source": [
    "datafile_train=\"/Users/lalitsachan/Dropbox/March onwards/PDS V2/Projects/P4/Hazard_train.csv\"\n",
    "datafile_test=\"/Users/lalitsachan/Dropbox/March onwards/PDS V2/Projects/P4/Hazard_test_share.csv\"\n",
    "bd_train=pd.read_csv(datafile_train)\n",
    "bd_test=pd.read_csv(datafile_test)"
   ]
  },
  {
   "cell_type": "code",
   "execution_count": 3,
   "metadata": {},
   "outputs": [
    {
     "data": {
      "text/html": [
       "<div>\n",
       "<style scoped>\n",
       "    .dataframe tbody tr th:only-of-type {\n",
       "        vertical-align: middle;\n",
       "    }\n",
       "\n",
       "    .dataframe tbody tr th {\n",
       "        vertical-align: top;\n",
       "    }\n",
       "\n",
       "    .dataframe thead th {\n",
       "        text-align: right;\n",
       "    }\n",
       "</style>\n",
       "<table border=\"1\" class=\"dataframe\">\n",
       "  <thead>\n",
       "    <tr style=\"text-align: right;\">\n",
       "      <th></th>\n",
       "      <th>Id</th>\n",
       "      <th>Hazard</th>\n",
       "      <th>T1_V1</th>\n",
       "      <th>T1_V2</th>\n",
       "      <th>T1_V3</th>\n",
       "      <th>T1_V4</th>\n",
       "      <th>T1_V5</th>\n",
       "      <th>T1_V6</th>\n",
       "      <th>T1_V7</th>\n",
       "      <th>T1_V8</th>\n",
       "      <th>...</th>\n",
       "      <th>T2_V6</th>\n",
       "      <th>T2_V7</th>\n",
       "      <th>T2_V8</th>\n",
       "      <th>T2_V9</th>\n",
       "      <th>T2_V10</th>\n",
       "      <th>T2_V11</th>\n",
       "      <th>T2_V12</th>\n",
       "      <th>T2_V13</th>\n",
       "      <th>T2_V14</th>\n",
       "      <th>T2_V15</th>\n",
       "    </tr>\n",
       "  </thead>\n",
       "  <tbody>\n",
       "    <tr>\n",
       "      <th>0</th>\n",
       "      <td>83642</td>\n",
       "      <td>2</td>\n",
       "      <td>10</td>\n",
       "      <td>23</td>\n",
       "      <td>4</td>\n",
       "      <td>N</td>\n",
       "      <td>K</td>\n",
       "      <td>Y</td>\n",
       "      <td>B</td>\n",
       "      <td>D</td>\n",
       "      <td>...</td>\n",
       "      <td>2</td>\n",
       "      <td>37</td>\n",
       "      <td>1</td>\n",
       "      <td>11</td>\n",
       "      <td>2</td>\n",
       "      <td>Y</td>\n",
       "      <td>N</td>\n",
       "      <td>E</td>\n",
       "      <td>2</td>\n",
       "      <td>1</td>\n",
       "    </tr>\n",
       "    <tr>\n",
       "      <th>1</th>\n",
       "      <td>92530</td>\n",
       "      <td>6</td>\n",
       "      <td>3</td>\n",
       "      <td>18</td>\n",
       "      <td>2</td>\n",
       "      <td>B</td>\n",
       "      <td>H</td>\n",
       "      <td>N</td>\n",
       "      <td>B</td>\n",
       "      <td>B</td>\n",
       "      <td>...</td>\n",
       "      <td>2</td>\n",
       "      <td>34</td>\n",
       "      <td>1</td>\n",
       "      <td>12</td>\n",
       "      <td>7</td>\n",
       "      <td>Y</td>\n",
       "      <td>N</td>\n",
       "      <td>C</td>\n",
       "      <td>3</td>\n",
       "      <td>3</td>\n",
       "    </tr>\n",
       "    <tr>\n",
       "      <th>2</th>\n",
       "      <td>86131</td>\n",
       "      <td>4</td>\n",
       "      <td>5</td>\n",
       "      <td>20</td>\n",
       "      <td>4</td>\n",
       "      <td>B</td>\n",
       "      <td>K</td>\n",
       "      <td>N</td>\n",
       "      <td>B</td>\n",
       "      <td>B</td>\n",
       "      <td>...</td>\n",
       "      <td>1</td>\n",
       "      <td>40</td>\n",
       "      <td>1</td>\n",
       "      <td>17</td>\n",
       "      <td>4</td>\n",
       "      <td>Y</td>\n",
       "      <td>N</td>\n",
       "      <td>D</td>\n",
       "      <td>1</td>\n",
       "      <td>1</td>\n",
       "    </tr>\n",
       "    <tr>\n",
       "      <th>3</th>\n",
       "      <td>88666</td>\n",
       "      <td>1</td>\n",
       "      <td>4</td>\n",
       "      <td>7</td>\n",
       "      <td>5</td>\n",
       "      <td>N</td>\n",
       "      <td>H</td>\n",
       "      <td>N</td>\n",
       "      <td>B</td>\n",
       "      <td>B</td>\n",
       "      <td>...</td>\n",
       "      <td>2</td>\n",
       "      <td>37</td>\n",
       "      <td>1</td>\n",
       "      <td>11</td>\n",
       "      <td>6</td>\n",
       "      <td>Y</td>\n",
       "      <td>N</td>\n",
       "      <td>D</td>\n",
       "      <td>2</td>\n",
       "      <td>1</td>\n",
       "    </tr>\n",
       "    <tr>\n",
       "      <th>4</th>\n",
       "      <td>11122</td>\n",
       "      <td>21</td>\n",
       "      <td>10</td>\n",
       "      <td>21</td>\n",
       "      <td>6</td>\n",
       "      <td>N</td>\n",
       "      <td>C</td>\n",
       "      <td>Y</td>\n",
       "      <td>B</td>\n",
       "      <td>C</td>\n",
       "      <td>...</td>\n",
       "      <td>2</td>\n",
       "      <td>40</td>\n",
       "      <td>1</td>\n",
       "      <td>6</td>\n",
       "      <td>6</td>\n",
       "      <td>N</td>\n",
       "      <td>N</td>\n",
       "      <td>D</td>\n",
       "      <td>5</td>\n",
       "      <td>5</td>\n",
       "    </tr>\n",
       "  </tbody>\n",
       "</table>\n",
       "<p>5 rows × 34 columns</p>\n",
       "</div>"
      ],
      "text/plain": [
       "      Id  Hazard  T1_V1  T1_V2  T1_V3 T1_V4 T1_V5 T1_V6 T1_V7 T1_V8  ...  \\\n",
       "0  83642       2     10     23      4     N     K     Y     B     D  ...   \n",
       "1  92530       6      3     18      2     B     H     N     B     B  ...   \n",
       "2  86131       4      5     20      4     B     K     N     B     B  ...   \n",
       "3  88666       1      4      7      5     N     H     N     B     B  ...   \n",
       "4  11122      21     10     21      6     N     C     Y     B     C  ...   \n",
       "\n",
       "  T2_V6  T2_V7 T2_V8 T2_V9  T2_V10  T2_V11 T2_V12 T2_V13 T2_V14  T2_V15  \n",
       "0     2     37     1    11       2       Y      N      E      2       1  \n",
       "1     2     34     1    12       7       Y      N      C      3       3  \n",
       "2     1     40     1    17       4       Y      N      D      1       1  \n",
       "3     2     37     1    11       6       Y      N      D      2       1  \n",
       "4     2     40     1     6       6       N      N      D      5       5  \n",
       "\n",
       "[5 rows x 34 columns]"
      ]
     },
     "execution_count": 3,
     "metadata": {},
     "output_type": "execute_result"
    }
   ],
   "source": [
    "bd_train.head()"
   ]
  },
  {
   "cell_type": "code",
   "execution_count": 4,
   "metadata": {},
   "outputs": [],
   "source": [
    "cat_cols=bd_train.select_dtypes(['object']).columns"
   ]
  },
  {
   "cell_type": "code",
   "execution_count": 5,
   "metadata": {},
   "outputs": [
    {
     "data": {
      "text/plain": [
       "Index(['T1_V4', 'T1_V5', 'T1_V6', 'T1_V7', 'T1_V8', 'T1_V9', 'T1_V11',\n",
       "       'T1_V12', 'T1_V15', 'T1_V16', 'T1_V17', 'T2_V3', 'T2_V5', 'T2_V11',\n",
       "       'T2_V12', 'T2_V13'],\n",
       "      dtype='object')"
      ]
     },
     "execution_count": 5,
     "metadata": {},
     "output_type": "execute_result"
    }
   ],
   "source": [
    "cat_cols"
   ]
  },
  {
   "cell_type": "code",
   "execution_count": 6,
   "metadata": {},
   "outputs": [],
   "source": [
    "bd_train['data']='train'\n",
    "bd_test['data']='test'\n",
    "all_data=pd.concat([bd_train,bd_test],0,sort=False)"
   ]
  },
  {
   "cell_type": "code",
   "execution_count": 7,
   "metadata": {},
   "outputs": [
    {
     "data": {
      "text/plain": [
       "(50999, 35)"
      ]
     },
     "execution_count": 7,
     "metadata": {},
     "output_type": "execute_result"
    }
   ],
   "source": [
    "all_data.shape"
   ]
  },
  {
   "cell_type": "code",
   "execution_count": 8,
   "metadata": {},
   "outputs": [],
   "source": [
    "for col in cat_cols:\n",
    "    k=all_data[col].value_counts()\n",
    "    cats=k[k>=100].index[:-1]\n",
    "    \n",
    "    for cat in cats:\n",
    "        name=col+'_'+cat\n",
    "        all_data[name]=(all_data[col]==cat).astype(int)\n",
    "        \n",
    "    del all_data[col]"
   ]
  },
  {
   "cell_type": "code",
   "execution_count": 9,
   "metadata": {},
   "outputs": [
    {
     "data": {
      "text/plain": [
       "(50999, 94)"
      ]
     },
     "execution_count": 9,
     "metadata": {},
     "output_type": "execute_result"
    }
   ],
   "source": [
    "all_data.shape"
   ]
  },
  {
   "cell_type": "code",
   "execution_count": 10,
   "metadata": {},
   "outputs": [
    {
     "data": {
      "text/html": [
       "<div>\n",
       "<style scoped>\n",
       "    .dataframe tbody tr th:only-of-type {\n",
       "        vertical-align: middle;\n",
       "    }\n",
       "\n",
       "    .dataframe tbody tr th {\n",
       "        vertical-align: top;\n",
       "    }\n",
       "\n",
       "    .dataframe thead th {\n",
       "        text-align: right;\n",
       "    }\n",
       "</style>\n",
       "<table border=\"1\" class=\"dataframe\">\n",
       "  <thead>\n",
       "    <tr style=\"text-align: right;\">\n",
       "      <th></th>\n",
       "      <th>Id</th>\n",
       "      <th>Hazard</th>\n",
       "      <th>T1_V1</th>\n",
       "      <th>T1_V2</th>\n",
       "      <th>T1_V3</th>\n",
       "      <th>T1_V10</th>\n",
       "      <th>T1_V13</th>\n",
       "      <th>T1_V14</th>\n",
       "      <th>T2_V1</th>\n",
       "      <th>T2_V2</th>\n",
       "      <th>...</th>\n",
       "      <th>T2_V5_A</th>\n",
       "      <th>T2_V5_B</th>\n",
       "      <th>T2_V5_C</th>\n",
       "      <th>T2_V5_D</th>\n",
       "      <th>T2_V11_Y</th>\n",
       "      <th>T2_V12_N</th>\n",
       "      <th>T2_V13_E</th>\n",
       "      <th>T2_V13_A</th>\n",
       "      <th>T2_V13_C</th>\n",
       "      <th>T2_V13_D</th>\n",
       "    </tr>\n",
       "  </thead>\n",
       "  <tbody>\n",
       "    <tr>\n",
       "      <th>0</th>\n",
       "      <td>83642</td>\n",
       "      <td>2.0</td>\n",
       "      <td>10</td>\n",
       "      <td>23</td>\n",
       "      <td>4</td>\n",
       "      <td>2</td>\n",
       "      <td>10</td>\n",
       "      <td>0</td>\n",
       "      <td>52</td>\n",
       "      <td>14</td>\n",
       "      <td>...</td>\n",
       "      <td>0</td>\n",
       "      <td>0</td>\n",
       "      <td>1</td>\n",
       "      <td>0</td>\n",
       "      <td>1</td>\n",
       "      <td>1</td>\n",
       "      <td>1</td>\n",
       "      <td>0</td>\n",
       "      <td>0</td>\n",
       "      <td>0</td>\n",
       "    </tr>\n",
       "    <tr>\n",
       "      <th>1</th>\n",
       "      <td>92530</td>\n",
       "      <td>6.0</td>\n",
       "      <td>3</td>\n",
       "      <td>18</td>\n",
       "      <td>2</td>\n",
       "      <td>8</td>\n",
       "      <td>10</td>\n",
       "      <td>3</td>\n",
       "      <td>39</td>\n",
       "      <td>14</td>\n",
       "      <td>...</td>\n",
       "      <td>1</td>\n",
       "      <td>0</td>\n",
       "      <td>0</td>\n",
       "      <td>0</td>\n",
       "      <td>1</td>\n",
       "      <td>1</td>\n",
       "      <td>0</td>\n",
       "      <td>0</td>\n",
       "      <td>1</td>\n",
       "      <td>0</td>\n",
       "    </tr>\n",
       "    <tr>\n",
       "      <th>2</th>\n",
       "      <td>86131</td>\n",
       "      <td>4.0</td>\n",
       "      <td>5</td>\n",
       "      <td>20</td>\n",
       "      <td>4</td>\n",
       "      <td>7</td>\n",
       "      <td>15</td>\n",
       "      <td>1</td>\n",
       "      <td>66</td>\n",
       "      <td>10</td>\n",
       "      <td>...</td>\n",
       "      <td>0</td>\n",
       "      <td>0</td>\n",
       "      <td>1</td>\n",
       "      <td>0</td>\n",
       "      <td>1</td>\n",
       "      <td>1</td>\n",
       "      <td>0</td>\n",
       "      <td>0</td>\n",
       "      <td>0</td>\n",
       "      <td>1</td>\n",
       "    </tr>\n",
       "    <tr>\n",
       "      <th>3</th>\n",
       "      <td>88666</td>\n",
       "      <td>1.0</td>\n",
       "      <td>4</td>\n",
       "      <td>7</td>\n",
       "      <td>5</td>\n",
       "      <td>8</td>\n",
       "      <td>15</td>\n",
       "      <td>3</td>\n",
       "      <td>48</td>\n",
       "      <td>11</td>\n",
       "      <td>...</td>\n",
       "      <td>0</td>\n",
       "      <td>1</td>\n",
       "      <td>0</td>\n",
       "      <td>0</td>\n",
       "      <td>1</td>\n",
       "      <td>1</td>\n",
       "      <td>0</td>\n",
       "      <td>0</td>\n",
       "      <td>0</td>\n",
       "      <td>1</td>\n",
       "    </tr>\n",
       "    <tr>\n",
       "      <th>4</th>\n",
       "      <td>11122</td>\n",
       "      <td>21.0</td>\n",
       "      <td>10</td>\n",
       "      <td>21</td>\n",
       "      <td>6</td>\n",
       "      <td>12</td>\n",
       "      <td>10</td>\n",
       "      <td>1</td>\n",
       "      <td>42</td>\n",
       "      <td>11</td>\n",
       "      <td>...</td>\n",
       "      <td>1</td>\n",
       "      <td>0</td>\n",
       "      <td>0</td>\n",
       "      <td>0</td>\n",
       "      <td>0</td>\n",
       "      <td>1</td>\n",
       "      <td>0</td>\n",
       "      <td>0</td>\n",
       "      <td>0</td>\n",
       "      <td>1</td>\n",
       "    </tr>\n",
       "  </tbody>\n",
       "</table>\n",
       "<p>5 rows × 94 columns</p>\n",
       "</div>"
      ],
      "text/plain": [
       "      Id  Hazard  T1_V1  T1_V2  T1_V3  T1_V10  T1_V13  T1_V14  T2_V1  T2_V2  \\\n",
       "0  83642     2.0     10     23      4       2      10       0     52     14   \n",
       "1  92530     6.0      3     18      2       8      10       3     39     14   \n",
       "2  86131     4.0      5     20      4       7      15       1     66     10   \n",
       "3  88666     1.0      4      7      5       8      15       3     48     11   \n",
       "4  11122    21.0     10     21      6      12      10       1     42     11   \n",
       "\n",
       "   ...  T2_V5_A  T2_V5_B  T2_V5_C  T2_V5_D  T2_V11_Y  T2_V12_N  T2_V13_E  \\\n",
       "0  ...        0        0        1        0         1         1         1   \n",
       "1  ...        1        0        0        0         1         1         0   \n",
       "2  ...        0        0        1        0         1         1         0   \n",
       "3  ...        0        1        0        0         1         1         0   \n",
       "4  ...        1        0        0        0         0         1         0   \n",
       "\n",
       "   T2_V13_A T2_V13_C  T2_V13_D  \n",
       "0         0        0         0  \n",
       "1         0        1         0  \n",
       "2         0        0         1  \n",
       "3         0        0         1  \n",
       "4         0        0         1  \n",
       "\n",
       "[5 rows x 94 columns]"
      ]
     },
     "execution_count": 10,
     "metadata": {},
     "output_type": "execute_result"
    }
   ],
   "source": [
    "all_data.head()"
   ]
  },
  {
   "cell_type": "code",
   "execution_count": 11,
   "metadata": {},
   "outputs": [],
   "source": [
    "x_train=all_data.drop(['Id','Hazard','data'],1)[all_data['data']=='train']\n",
    "y_train=all_data['Hazard'][all_data['data']=='train']"
   ]
  },
  {
   "cell_type": "code",
   "execution_count": 12,
   "metadata": {},
   "outputs": [
    {
     "data": {
      "text/plain": [
       "((40799, 91), (40799,))"
      ]
     },
     "execution_count": 12,
     "metadata": {},
     "output_type": "execute_result"
    }
   ],
   "source": [
    "x_train.shape, y_train.shape"
   ]
  },
  {
   "cell_type": "code",
   "execution_count": 13,
   "metadata": {},
   "outputs": [],
   "source": [
    "x_test=all_data.drop(['Id','Hazard','data'],1)[all_data['data']=='test']"
   ]
  },
  {
   "cell_type": "code",
   "execution_count": 14,
   "metadata": {},
   "outputs": [],
   "source": [
    "from sklearn.linear_model import Lasso\n",
    "\n",
    "# you should try other algos for improvement in performance \n",
    "# the target here is not really suitable for linear regression or regression cost in general\n",
    "# as it takes always positive integer values \n",
    "# you should try PoissonRegressor available with sklearn .23 and onwards \n",
    "# if that is not available , you can also make use of objective :'count:poisson' with xgboost\n",
    "# you can also try HistGradientBoostingRegressor with loss='poisson'\n"
   ]
  },
  {
   "cell_type": "code",
   "execution_count": 15,
   "metadata": {},
   "outputs": [],
   "source": [
    "params={'alpha':np.linspace(0.01,10,100)}"
   ]
  },
  {
   "cell_type": "code",
   "execution_count": 16,
   "metadata": {},
   "outputs": [],
   "source": [
    "from sklearn.model_selection import GridSearchCV"
   ]
  },
  {
   "cell_type": "code",
   "execution_count": 17,
   "metadata": {},
   "outputs": [],
   "source": [
    "model=Lasso(fit_intercept=True)"
   ]
  },
  {
   "cell_type": "code",
   "execution_count": 18,
   "metadata": {},
   "outputs": [],
   "source": [
    "grid_search=GridSearchCV(model,cv=10,scoring='neg_mean_absolute_error',\n",
    "                         param_grid=params,n_jobs=-1,verbose=10)\n",
    "\n",
    "# you can also make use of mean_poisson_deviance as scoring , this ignores non-positive outcomes\n",
    "# it might not be avalaible with your version"
   ]
  },
  {
   "cell_type": "code",
   "execution_count": 19,
   "metadata": {},
   "outputs": [
    {
     "name": "stdout",
     "output_type": "stream",
     "text": [
      "Fitting 10 folds for each of 100 candidates, totalling 1000 fits\n"
     ]
    },
    {
     "name": "stderr",
     "output_type": "stream",
     "text": [
      "[Parallel(n_jobs=-1)]: Using backend LokyBackend with 12 concurrent workers.\n",
      "[Parallel(n_jobs=-1)]: Done   1 tasks      | elapsed:    3.2s\n",
      "[Parallel(n_jobs=-1)]: Done   8 tasks      | elapsed:    3.8s\n",
      "[Parallel(n_jobs=-1)]: Done  17 tasks      | elapsed:    4.8s\n",
      "[Parallel(n_jobs=-1)]: Done  26 tasks      | elapsed:    5.4s\n",
      "[Parallel(n_jobs=-1)]: Done  37 tasks      | elapsed:    6.0s\n",
      "[Parallel(n_jobs=-1)]: Done  48 tasks      | elapsed:    6.6s\n",
      "[Parallel(n_jobs=-1)]: Done  61 tasks      | elapsed:    7.1s\n",
      "[Parallel(n_jobs=-1)]: Done  74 tasks      | elapsed:    7.7s\n",
      "[Parallel(n_jobs=-1)]: Done  89 tasks      | elapsed:    8.3s\n",
      "[Parallel(n_jobs=-1)]: Done 104 tasks      | elapsed:    8.9s\n",
      "[Parallel(n_jobs=-1)]: Done 121 tasks      | elapsed:    9.7s\n",
      "[Parallel(n_jobs=-1)]: Done 138 tasks      | elapsed:   10.4s\n",
      "[Parallel(n_jobs=-1)]: Done 157 tasks      | elapsed:   11.2s\n",
      "[Parallel(n_jobs=-1)]: Done 176 tasks      | elapsed:   11.9s\n",
      "[Parallel(n_jobs=-1)]: Done 197 tasks      | elapsed:   13.0s\n",
      "[Parallel(n_jobs=-1)]: Done 218 tasks      | elapsed:   13.8s\n",
      "[Parallel(n_jobs=-1)]: Done 241 tasks      | elapsed:   14.7s\n",
      "[Parallel(n_jobs=-1)]: Done 264 tasks      | elapsed:   15.5s\n",
      "[Parallel(n_jobs=-1)]: Done 289 tasks      | elapsed:   16.7s\n",
      "[Parallel(n_jobs=-1)]: Done 314 tasks      | elapsed:   17.7s\n",
      "[Parallel(n_jobs=-1)]: Done 341 tasks      | elapsed:   18.6s\n",
      "[Parallel(n_jobs=-1)]: Done 368 tasks      | elapsed:   19.6s\n",
      "[Parallel(n_jobs=-1)]: Done 397 tasks      | elapsed:   20.6s\n",
      "[Parallel(n_jobs=-1)]: Done 426 tasks      | elapsed:   21.6s\n",
      "[Parallel(n_jobs=-1)]: Done 457 tasks      | elapsed:   22.9s\n",
      "[Parallel(n_jobs=-1)]: Done 488 tasks      | elapsed:   24.0s\n",
      "[Parallel(n_jobs=-1)]: Done 521 tasks      | elapsed:   25.1s\n",
      "[Parallel(n_jobs=-1)]: Done 554 tasks      | elapsed:   26.2s\n",
      "[Parallel(n_jobs=-1)]: Done 589 tasks      | elapsed:   27.4s\n",
      "[Parallel(n_jobs=-1)]: Done 624 tasks      | elapsed:   28.5s\n",
      "[Parallel(n_jobs=-1)]: Done 661 tasks      | elapsed:   29.8s\n",
      "[Parallel(n_jobs=-1)]: Done 698 tasks      | elapsed:   31.0s\n",
      "[Parallel(n_jobs=-1)]: Done 737 tasks      | elapsed:   32.3s\n",
      "[Parallel(n_jobs=-1)]: Done 776 tasks      | elapsed:   33.5s\n",
      "[Parallel(n_jobs=-1)]: Done 817 tasks      | elapsed:   34.7s\n",
      "[Parallel(n_jobs=-1)]: Done 858 tasks      | elapsed:   35.9s\n",
      "[Parallel(n_jobs=-1)]: Done 901 tasks      | elapsed:   37.2s\n",
      "[Parallel(n_jobs=-1)]: Done 944 tasks      | elapsed:   38.5s\n",
      "[Parallel(n_jobs=-1)]: Done 1000 out of 1000 | elapsed:   40.1s finished\n"
     ]
    },
    {
     "data": {
      "text/plain": [
       "GridSearchCV(cv=10, error_score='raise-deprecating',\n",
       "       estimator=Lasso(alpha=1.0, copy_X=True, fit_intercept=True, max_iter=1000,\n",
       "   normalize=False, positive=False, precompute=False, random_state=None,\n",
       "   selection='cyclic', tol=0.0001, warm_start=False),\n",
       "       fit_params=None, iid='warn', n_jobs=-1,\n",
       "       param_grid={'alpha': array([ 0.01   ,  0.11091, ...,  9.89909, 10.     ])},\n",
       "       pre_dispatch='2*n_jobs', refit=True, return_train_score='warn',\n",
       "       scoring='neg_mean_absolute_error', verbose=10)"
      ]
     },
     "execution_count": 19,
     "metadata": {},
     "output_type": "execute_result"
    }
   ],
   "source": [
    "grid_search.fit(x_train,y_train)"
   ]
  },
  {
   "cell_type": "code",
   "execution_count": 20,
   "metadata": {},
   "outputs": [
    {
     "data": {
      "text/plain": [
       "Lasso(alpha=0.01, copy_X=True, fit_intercept=True, max_iter=1000,\n",
       "   normalize=False, positive=False, precompute=False, random_state=None,\n",
       "   selection='cyclic', tol=0.0001, warm_start=False)"
      ]
     },
     "execution_count": 20,
     "metadata": {},
     "output_type": "execute_result"
    }
   ],
   "source": [
    "grid_search.best_estimator_"
   ]
  },
  {
   "cell_type": "code",
   "execution_count": 21,
   "metadata": {},
   "outputs": [],
   "source": [
    "# you can see that best estimator is at the edge of the alpha range that we tried . You\n",
    "# can expand on that, if you are using Lasso"
   ]
  },
  {
   "cell_type": "code",
   "execution_count": 27,
   "metadata": {},
   "outputs": [
    {
     "data": {
      "text/plain": [
       "2.748947514698889"
      ]
     },
     "execution_count": 27,
     "metadata": {},
     "output_type": "execute_result"
    }
   ],
   "source": [
    "abs(grid_search.best_score_)"
   ]
  },
  {
   "cell_type": "code",
   "execution_count": 22,
   "metadata": {},
   "outputs": [],
   "source": [
    "submissions=pd.DataFrame({'Hazard':grid_search.predict(x_test)})"
   ]
  },
  {
   "cell_type": "code",
   "execution_count": 23,
   "metadata": {},
   "outputs": [],
   "source": [
    "submissions.to_csv('sample_submission.csv',index=False)"
   ]
  },
  {
   "cell_type": "code",
   "execution_count": null,
   "metadata": {},
   "outputs": [],
   "source": []
  }
 ],
 "metadata": {
  "kernelspec": {
   "display_name": "Python 3",
   "language": "python",
   "name": "python3"
  },
  "language_info": {
   "codemirror_mode": {
    "name": "ipython",
    "version": 3
   },
   "file_extension": ".py",
   "mimetype": "text/x-python",
   "name": "python",
   "nbconvert_exporter": "python",
   "pygments_lexer": "ipython3",
   "version": "3.7.3"
  }
 },
 "nbformat": 4,
 "nbformat_minor": 2
}
