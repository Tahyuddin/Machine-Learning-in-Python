{
 "cells": [
  {
   "cell_type": "code",
   "execution_count": 1,
   "id": "fb9fcb2a-013a-4d4d-b738-bfa204d21e39",
   "metadata": {},
   "outputs": [],
   "source": [
    "import python"
   ]
  },
  {
   "cell_type": "code",
   "execution_count": 3,
   "id": "0198d2f9-b843-457b-8ff8-ff67461abfc7",
   "metadata": {},
   "outputs": [],
   "source": [
    "obj = python.Test()"
   ]
  },
  {
   "cell_type": "code",
   "execution_count": 7,
   "id": "1e761a1a-5381-4a9a-8080-e0d296f7cd0c",
   "metadata": {},
   "outputs": [
    {
     "data": {
      "text/plain": [
       "11"
      ]
     },
     "execution_count": 7,
     "metadata": {},
     "output_type": "execute_result"
    }
   ],
   "source": [
    "obj.add(5, 6)"
   ]
  },
  {
   "cell_type": "code",
   "execution_count": 9,
   "id": "cc96db91-f98e-4000-82da-781a222b238e",
   "metadata": {},
   "outputs": [
    {
     "data": {
      "text/plain": [
       "-1"
      ]
     },
     "execution_count": 9,
     "metadata": {},
     "output_type": "execute_result"
    }
   ],
   "source": [
    "obj.sub(5, 6)"
   ]
  },
  {
   "cell_type": "code",
   "execution_count": 11,
   "id": "ee80bd21-8c22-4e4f-87a2-a21e83784c11",
   "metadata": {},
   "outputs": [
    {
     "data": {
      "text/plain": [
       "25"
      ]
     },
     "execution_count": 11,
     "metadata": {},
     "output_type": "execute_result"
    }
   ],
   "source": [
    "obj.squre(5)"
   ]
  },
  {
   "cell_type": "code",
   "execution_count": null,
   "id": "b8e10ac0-17ab-4a6d-a2d7-579f10ebdbee",
   "metadata": {},
   "outputs": [],
   "source": []
  }
 ],
 "metadata": {
  "kernelspec": {
   "display_name": "Python 3 (ipykernel)",
   "language": "python",
   "name": "python3"
  },
  "language_info": {
   "codemirror_mode": {
    "name": "ipython",
    "version": 3
   },
   "file_extension": ".py",
   "mimetype": "text/x-python",
   "name": "python",
   "nbconvert_exporter": "python",
   "pygments_lexer": "ipython3",
   "version": "3.12.4"
  }
 },
 "nbformat": 4,
 "nbformat_minor": 5
}
